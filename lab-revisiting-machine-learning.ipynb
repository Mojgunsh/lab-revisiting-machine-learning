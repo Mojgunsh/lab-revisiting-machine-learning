{
 "cells": [
  {
   "cell_type": "code",
   "execution_count": 1,
   "id": "b9b5bb8d",
   "metadata": {},
   "outputs": [],
   "source": [
    "import pandas as pd\n",
    "import numpy as np\n",
    "import matplotlib.pyplot as plt\n",
    "import seaborn as sns \n",
    "pd.set_option('display.max_columns', None)"
   ]
  },
  {
   "cell_type": "markdown",
   "id": "d156fe5a",
   "metadata": {},
   "source": [
    "# Reading Data and Define categorical"
   ]
  },
  {
   "cell_type": "code",
   "execution_count": 59,
   "id": "35f63532",
   "metadata": {},
   "outputs": [
    {
     "name": "stderr",
     "output_type": "stream",
     "text": [
      "/Users/mojgun/opt/anaconda3/lib/python3.9/site-packages/IPython/core/interactiveshell.py:3444: DtypeWarning: Columns (9,12) have mixed types.Specify dtype option on import or set low_memory=False.\n",
      "  exec(code_obj, self.user_global_ns, self.user_ns)\n"
     ]
    }
   ],
   "source": [
    "data = pd.read_csv('Main.csv')"
   ]
  },
  {
   "cell_type": "code",
   "execution_count": 101,
   "id": "dd183985",
   "metadata": {},
   "outputs": [
    {
     "name": "stdout",
     "output_type": "stream",
     "text": [
      "<class 'pandas.core.frame.DataFrame'>\n",
      "RangeIndex: 95412 entries, 0 to 95411\n",
      "Columns: 482 entries, Unnamed: 0 to GEOCODE2\n",
      "dtypes: float64(103), int64(311), object(68)\n",
      "memory usage: 350.9+ MB\n"
     ]
    }
   ],
   "source": [
    "data.info()"
   ]
  },
  {
   "cell_type": "code",
   "execution_count": 102,
   "id": "c2145310",
   "metadata": {},
   "outputs": [],
   "source": [
    "data_backup=data"
   ]
  },
  {
   "cell_type": "code",
   "execution_count": 104,
   "id": "b7ec569d",
   "metadata": {},
   "outputs": [],
   "source": [
    "cat=data.select_dtypes('object')"
   ]
  },
  {
   "cell_type": "code",
   "execution_count": 105,
   "id": "8b0778cb",
   "metadata": {},
   "outputs": [
    {
     "data": {
      "text/plain": [
       "(95412, 68)"
      ]
     },
     "execution_count": 105,
     "metadata": {},
     "output_type": "execute_result"
    }
   ],
   "source": [
    "cat.shape"
   ]
  },
  {
   "cell_type": "code",
   "execution_count": 106,
   "id": "a418ac5f",
   "metadata": {
    "collapsed": true
   },
   "outputs": [
    {
     "name": "stdout",
     "output_type": "stream",
     "text": [
      "<class 'pandas.core.frame.DataFrame'>\n",
      "RangeIndex: 95412 entries, 0 to 95411\n",
      "Data columns (total 68 columns):\n",
      " #   Column    Non-Null Count  Dtype \n",
      "---  ------    --------------  ----- \n",
      " 0   OSOURCE   94484 non-null  object\n",
      " 1   STATE     95412 non-null  object\n",
      " 2   ZIP       95412 non-null  object\n",
      " 3   MAILCODE  95412 non-null  object\n",
      " 4   PVASTATE  1458 non-null   object\n",
      " 5   NOEXCH    95405 non-null  object\n",
      " 6   RECINHSE  6703 non-null   object\n",
      " 7   RECP3     2017 non-null   object\n",
      " 8   RECPGVG   114 non-null    object\n",
      " 9   RECSWEEP  1617 non-null   object\n",
      " 10  MDMAUD    95412 non-null  object\n",
      " 11  DOMAIN    93096 non-null  object\n",
      " 12  AGEFLAG   65864 non-null  object\n",
      " 13  HOMEOWNR  73184 non-null  object\n",
      " 14  CHILD03   1146 non-null   object\n",
      " 15  CHILD07   1566 non-null   object\n",
      " 16  CHILD12   1811 non-null   object\n",
      " 17  CHILD18   2847 non-null   object\n",
      " 18  GENDER    92455 non-null  object\n",
      " 19  MAJOR     294 non-null    object\n",
      " 20  COLLECT1  5202 non-null   object\n",
      " 21  VETERANS  10426 non-null  object\n",
      " 22  BIBLE     8871 non-null   object\n",
      " 23  CATLG     7865 non-null   object\n",
      " 24  HOMEE     887 non-null    object\n",
      " 25  PETS      14326 non-null  object\n",
      " 26  CDPLAY    12254 non-null  object\n",
      " 27  STEREO    12794 non-null  object\n",
      " 28  PCOWNERS  10481 non-null  object\n",
      " 29  PHOTO     4786 non-null   object\n",
      " 30  CRAFTS    8176 non-null   object\n",
      " 31  FISHER    7130 non-null   object\n",
      " 32  GARDENIN  13402 non-null  object\n",
      " 33  BOATS     2028 non-null   object\n",
      " 34  WALKER    10501 non-null  object\n",
      " 35  KIDSTUFF  1536 non-null   object\n",
      " 36  CARDS     1041 non-null   object\n",
      " 37  PLATES    560 non-null    object\n",
      " 38  PEPSTRFL  45269 non-null  object\n",
      " 39  RFA_2     95412 non-null  object\n",
      " 40  RFA_3     93462 non-null  object\n",
      " 41  RFA_4     93100 non-null  object\n",
      " 42  RFA_5     61822 non-null  object\n",
      " 43  RFA_6     91855 non-null  object\n",
      " 44  RFA_7     86538 non-null  object\n",
      " 45  RFA_8     91901 non-null  object\n",
      " 46  RFA_9     84167 non-null  object\n",
      " 47  RFA_10    62664 non-null  object\n",
      " 48  RFA_11    84990 non-null  object\n",
      " 49  RFA_12    86489 non-null  object\n",
      " 50  RFA_13    55193 non-null  object\n",
      " 51  RFA_14    76545 non-null  object\n",
      " 52  RFA_15    29935 non-null  object\n",
      " 53  RFA_16    74995 non-null  object\n",
      " 54  RFA_17    67762 non-null  object\n",
      " 55  RFA_18    74149 non-null  object\n",
      " 56  RFA_19    70920 non-null  object\n",
      " 57  RFA_20    45212 non-null  object\n",
      " 58  RFA_21    60200 non-null  object\n",
      " 59  RFA_22    69764 non-null  object\n",
      " 60  RFA_23    39138 non-null  object\n",
      " 61  RFA_24    58439 non-null  object\n",
      " 62  RFA_2R    95412 non-null  object\n",
      " 63  RFA_2A    95412 non-null  object\n",
      " 64  MDMAUD_R  95412 non-null  object\n",
      " 65  MDMAUD_F  95412 non-null  object\n",
      " 66  MDMAUD_A  95412 non-null  object\n",
      " 67  GEOCODE2  95093 non-null  object\n",
      "dtypes: object(68)\n",
      "memory usage: 49.5+ MB\n"
     ]
    }
   ],
   "source": [
    "cat.info()"
   ]
  },
  {
   "cell_type": "markdown",
   "id": "e02169ed",
   "metadata": {},
   "source": [
    "# Categorical Nulls and Drop list"
   ]
  },
  {
   "cell_type": "code",
   "execution_count": 110,
   "id": "16fc6858",
   "metadata": {},
   "outputs": [
    {
     "data": {
      "text/plain": [
       "OSOURCE       928\n",
       "STATE           0\n",
       "ZIP             0\n",
       "MAILCODE        0\n",
       "PVASTATE    93954\n",
       "            ...  \n",
       "RFA_2A          0\n",
       "MDMAUD_R        0\n",
       "MDMAUD_F        0\n",
       "MDMAUD_A        0\n",
       "GEOCODE2      319\n",
       "Length: 68, dtype: int64"
      ]
     },
     "execution_count": 110,
     "metadata": {},
     "output_type": "execute_result"
    }
   ],
   "source": [
    "cat.isna().sum()"
   ]
  },
  {
   "cell_type": "code",
   "execution_count": 112,
   "id": "282cf605",
   "metadata": {},
   "outputs": [
    {
     "data": {
      "text/plain": [
       "['OSOURCE', 'ZIP']"
      ]
     },
     "execution_count": 112,
     "metadata": {},
     "output_type": "execute_result"
    }
   ],
   "source": [
    "drop_list=[]\n",
    "drop_list.append('OSOURCE')\n",
    "drop_list.append('ZIP')\n",
    "drop_list"
   ]
  },
  {
   "cell_type": "code",
   "execution_count": 113,
   "id": "c88c2885",
   "metadata": {},
   "outputs": [],
   "source": [
    "def filter_nulls(df, perc = 0.25):    \n",
    "        nulls_percent_df = pd.DataFrame(df.isna().sum()/len(df)).reset_index()  \n",
    "        nulls_percent_df.columns = ['column_name', 'nulls_percentage']\n",
    "        columns_above_threshold = nulls_percent_df[nulls_percent_df['nulls_percentage']>perc]\n",
    "        drop_columns_list = list(columns_above_threshold['column_name'])\n",
    "        return drop_columns_list"
   ]
  },
  {
   "cell_type": "code",
   "execution_count": 114,
   "id": "5efda0d9",
   "metadata": {},
   "outputs": [],
   "source": [
    "drop_columns_list=filter_nulls(cat,0.85)"
   ]
  },
  {
   "cell_type": "code",
   "execution_count": 115,
   "id": "8123958c",
   "metadata": {},
   "outputs": [
    {
     "data": {
      "text/plain": [
       "(95412, 39)"
      ]
     },
     "execution_count": 115,
     "metadata": {},
     "output_type": "execute_result"
    }
   ],
   "source": [
    "cat_backup= cat.copy()\n",
    "cat = cat.drop(columns=drop_columns_list)\n",
    "cat = cat.drop(columns=drop_list)\n",
    "cat.shape"
   ]
  },
  {
   "cell_type": "markdown",
   "id": "c83ad246",
   "metadata": {},
   "source": [
    "# Cleaning Gender"
   ]
  },
  {
   "cell_type": "code",
   "execution_count": 116,
   "id": "082bf451",
   "metadata": {},
   "outputs": [
    {
     "data": {
      "text/plain": [
       "F    51277\n",
       "M    39094\n",
       "U     1715\n",
       "J      365\n",
       "C        2\n",
       "A        2\n",
       "Name: GENDER, dtype: int64"
      ]
     },
     "execution_count": 116,
     "metadata": {},
     "output_type": "execute_result"
    }
   ],
   "source": [
    "cat['GENDER'].value_counts()"
   ]
  },
  {
   "cell_type": "code",
   "execution_count": 117,
   "id": "70344dfa",
   "metadata": {},
   "outputs": [],
   "source": [
    "def clean_gender(df):\n",
    "    df['GENDER'] = np.where(df['GENDER'].isin(['F','M']),df['GENDER'],\"other\")\n",
    "    return df"
   ]
  },
  {
   "cell_type": "code",
   "execution_count": 118,
   "id": "91099fe5",
   "metadata": {},
   "outputs": [],
   "source": [
    "cat=clean_gender(cat)"
   ]
  },
  {
   "cell_type": "code",
   "execution_count": 119,
   "id": "de26f765",
   "metadata": {},
   "outputs": [
    {
     "data": {
      "text/plain": [
       "F        51277\n",
       "M        39094\n",
       "other     5041\n",
       "Name: GENDER, dtype: int64"
      ]
     },
     "execution_count": 119,
     "metadata": {},
     "output_type": "execute_result"
    }
   ],
   "source": [
    "cat['GENDER'].value_counts()"
   ]
  },
  {
   "cell_type": "code",
   "execution_count": 120,
   "id": "8232cf94",
   "metadata": {},
   "outputs": [
    {
     "name": "stdout",
     "output_type": "stream",
     "text": [
      "F        51277\n",
      "M        39094\n",
      "other     5041\n",
      "Name: GENDER, dtype: int64\n"
     ]
    }
   ],
   "source": [
    "print(cat['GENDER'].value_counts())\n",
    "cat['GENDER'] = cat['GENDER'].fillna('F')"
   ]
  },
  {
   "cell_type": "code",
   "execution_count": null,
   "id": "64cdaa1e",
   "metadata": {},
   "outputs": [],
   "source": []
  }
 ],
 "metadata": {
  "kernelspec": {
   "display_name": "Python 3 (ipykernel)",
   "language": "python",
   "name": "python3"
  },
  "language_info": {
   "codemirror_mode": {
    "name": "ipython",
    "version": 3
   },
   "file_extension": ".py",
   "mimetype": "text/x-python",
   "name": "python",
   "nbconvert_exporter": "python",
   "pygments_lexer": "ipython3",
   "version": "3.9.7"
  },
  "toc": {
   "base_numbering": 1,
   "nav_menu": {},
   "number_sections": true,
   "sideBar": true,
   "skip_h1_title": false,
   "title_cell": "Table of Contents",
   "title_sidebar": "Contents",
   "toc_cell": false,
   "toc_position": {},
   "toc_section_display": true,
   "toc_window_display": false
  },
  "varInspector": {
   "cols": {
    "lenName": 16,
    "lenType": 16,
    "lenVar": 40
   },
   "kernels_config": {
    "python": {
     "delete_cmd_postfix": "",
     "delete_cmd_prefix": "del ",
     "library": "var_list.py",
     "varRefreshCmd": "print(var_dic_list())"
    },
    "r": {
     "delete_cmd_postfix": ") ",
     "delete_cmd_prefix": "rm(",
     "library": "var_list.r",
     "varRefreshCmd": "cat(var_dic_list()) "
    }
   },
   "types_to_exclude": [
    "module",
    "function",
    "builtin_function_or_method",
    "instance",
    "_Feature"
   ],
   "window_display": false
  }
 },
 "nbformat": 4,
 "nbformat_minor": 5
}
